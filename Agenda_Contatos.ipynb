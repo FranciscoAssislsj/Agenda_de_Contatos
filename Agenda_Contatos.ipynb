{
  "nbformat": 4,
  "nbformat_minor": 0,
  "metadata": {
    "colab": {
      "provenance": [],
      "authorship_tag": "ABX9TyOLvO2+1trIS3j+1dlouIM4",
      "include_colab_link": true
    },
    "kernelspec": {
      "name": "python3",
      "display_name": "Python 3"
    },
    "language_info": {
      "name": "python"
    }
  },
  "cells": [
    {
      "cell_type": "markdown",
      "metadata": {
        "id": "view-in-github",
        "colab_type": "text"
      },
      "source": [
        "<a href=\"https://colab.research.google.com/github/FranciscoAssislsj/Agenda_de_Contatos/blob/main/Agenda_Contatos.ipynb\" target=\"_parent\"><img src=\"https://colab.research.google.com/assets/colab-badge.svg\" alt=\"Open In Colab\"/></a>"
      ]
    },
    {
      "cell_type": "code",
      "execution_count": null,
      "metadata": {
        "id": "TQP8Da6h4zJ-"
      },
      "outputs": [],
      "source": [
        "# Coleta de informações"
      ]
    },
    {
      "cell_type": "code",
      "source": [
        "import json"
      ],
      "metadata": {
        "id": "0KbriJTbJ7-9"
      },
      "execution_count": null,
      "outputs": []
    },
    {
      "cell_type": "code",
      "source": [
        "\n",
        "agenda = []\n",
        "\n",
        "def salvar_agenda():\n",
        "  with open(\"agenda.json\", 'w') as arquivo:\n",
        "    json.dump(agenda, arquivo)\n",
        "  print(\"Agenda salva com sucesso!\")\n",
        "\n",
        "def carregar_agenda():\n",
        "  try:\n",
        "    with open(\"agenda.json\", 'r') as arquivo:\n",
        "      json.load(agenda, arquivo)\n",
        "    print(\"Agenda carregada com sucesso!\")\n",
        "    return agenda\n",
        "  except:\n",
        "    print(\"Nenhuma agenda foi encontrada! Começando um nova agenda!\\n\")\n",
        "    return []\n",
        "\n",
        "def adicionar_contato(nome, telefone, email):\n",
        "  contato = {\n",
        "      'nome': nome,\n",
        "      'telefone': telefone,\n",
        "      'email': email\n",
        "  }\n",
        "  agenda.append(contato)\n",
        "\n",
        "  print(f\"Contato {nome} Adicionado!\")\n",
        "\n",
        "def exibir_contatos():\n",
        "  print(\"\\nContatos da agenda\")\n",
        "  for contato in agenda:\n",
        "    print(\"Nome: \", contato['nome'])\n",
        "    print(\"Telefone: \", contato['telefone'])\n",
        "    print(\"Email: \", contato['email'])\n",
        "\n",
        "def editar_contato():\n",
        "  nome = input(\"Digite o nome do contato que deseja editar: \")\n",
        "  for contato in agenda:\n",
        "    if contato['nome'] == nome:\n",
        "      contato['telefone'] = input(\"Digite o novo telefone: \")\n",
        "      contato['email'] = input(\"Digite o novo email: \")\n",
        "      print('Contato atualizado!\\n')\n",
        "      break\n",
        "  else:\n",
        "    print('Contato não encontrado!')\n",
        "\n",
        "def remover_contato():\n",
        "  nome = input(\"Digite o nome do contato que deseja remover: \")\n",
        "  for contato in agenda:\n",
        "    if contato['nome'] == nome:\n",
        "      agenda.remove(contato)\n",
        "      print(\"Contato removido!\")\n",
        "      return\n",
        "  print(\"Contato não encontrado!\\n\")\n",
        "\n",
        "agenda = carregar_agenda()\n",
        "\n",
        "while True:\n",
        "  print(\"\\n**Menu da Agenda **\")\n",
        "  print(\"1. Adicionar Contato\")\n",
        "  print(\"2. Exibir Agenda\")\n",
        "  print(\"3. Editar Contato\")\n",
        "  print(\"4. Remover Contato\")\n",
        "  print(\"5. Salvar Agenda\")\n",
        "  print(\"6. Sair\")\n",
        "\n",
        "  opcao = input(\"Digite a opção desejada: \")\n",
        "\n",
        "  if opcao == \"1\":\n",
        "    nome = input(\"Digite o nome do contato: \")\n",
        "    telefone = input(\"Digite o telefone do contato: \")\n",
        "    email = input(\"Digite o email do contato: \")\n",
        "\n",
        "    adicionar_contato(nome, telefone, email)\n",
        "\n",
        "  elif opcao == \"2\":\n",
        "    exibir_contatos()\n",
        "\n",
        "  elif opcao == '3':\n",
        "    editar_contato()\n",
        "\n",
        "  elif opcao == '4':\n",
        "    remover_contato()\n",
        "  elif opcao == '5':\n",
        "    salvar_agenda()\n",
        "\n",
        "  elif opcao == \"6\":\n",
        "    print(\"Encerrando a Agenda!\")\n",
        "    break\n",
        "  else:\n",
        "    print(\"Opção inválida! digite novamente!\")\n",
        "\n",
        "\n",
        "for contato in agenda:\n",
        "  print(\"Nome: \", contato['nome'])\n",
        "  print(\"Telefone: \", contato['telefone'])\n",
        "  print(\"Email: \", contato['email'])"
      ],
      "metadata": {
        "id": "ONpISu4u4_Pj"
      },
      "execution_count": null,
      "outputs": []
    }
  ]
}